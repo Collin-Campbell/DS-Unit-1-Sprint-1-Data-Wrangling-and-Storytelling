{
  "nbformat": 4,
  "nbformat_minor": 0,
  "metadata": {
    "colab": {
      "name": "LS_DS_114_Make_Explanatory_Visualizations_Assignment.ipynb",
      "provenance": [],
      "collapsed_sections": [],
      "include_colab_link": true
    },
    "language_info": {
      "codemirror_mode": {
        "name": "ipython",
        "version": 3
      },
      "file_extension": ".py",
      "mimetype": "text/x-python",
      "name": "python",
      "nbconvert_exporter": "python",
      "pygments_lexer": "ipython3",
      "version": "3.7.1"
    },
    "kernelspec": {
      "display_name": "Python 3",
      "language": "python",
      "name": "python3"
    }
  },
  "cells": [
    {
      "cell_type": "markdown",
      "metadata": {
        "id": "view-in-github",
        "colab_type": "text"
      },
      "source": [
        "<a href=\"https://colab.research.google.com/github/Collin-Campbell/DS-Unit-1-Sprint-1-Data-Wrangling-and-Storytelling/blob/master/module4-make-explanatory-visualizations/LS_DS_114_Make_Explanatory_Visualizations_Assignment.ipynb\" target=\"_parent\"><img src=\"https://colab.research.google.com/assets/colab-badge.svg\" alt=\"Open In Colab\"/></a>"
      ]
    },
    {
      "cell_type": "markdown",
      "metadata": {
        "colab_type": "text",
        "id": "NMEswXWh9mqw"
      },
      "source": [
        "Lambda School Data Science\n",
        "\n",
        "*Unit 1, Sprint 1, Module 4*\n",
        "\n",
        "---\n",
        "\n",
        "# ASSIGNMENT\n",
        "\n",
        "### 1) Replicate the lesson code. I recommend that you [do not copy-paste](https://docs.google.com/document/d/1ubOw9B3Hfip27hF2ZFnW3a3z9xAgrUDRReOEo-FHCVs/edit).\n",
        "\n",
        "Get caught up to where we got our example in class and then try and take things further. How close to \"pixel perfect\" can you make the lecture graph?\n",
        "\n",
        "Once you have something that you're proud of, share your graph in the cohort channel and move on to the second exercise.\n",
        "\n",
        "### 2) Reproduce another example from [FiveThityEight's shared data repository](https://data.fivethirtyeight.com/).\n",
        "\n",
        "**WARNING**: There are a lot of very custom graphs and tables at the above link. I **highly** recommend not trying to reproduce any that look like a table of values or something really different from the graph types that we are already familiar with. Search through the posts until you find a graph type that you are more or less familiar with: histogram, bar chart, stacked bar chart, line chart, [seaborn relplot](https://seaborn.pydata.org/generated/seaborn.relplot.html), etc. Recreating some of the graphics that 538 uses would be a lot easier in Adobe photoshop/illustrator than with matplotlib. \n",
        "\n",
        "- If you put in some time to find a graph that looks \"easy\" to replicate you'll probably find that it's not as easy as you thought. \n",
        "\n",
        "- If you start with a graph that looks hard to replicate you'll probably run up against a brick wall and be disappointed with your afternoon.\n",
        "\n",
        "\n",
        "\n",
        "\n",
        "\n",
        "\n",
        "\n",
        "\n",
        "\n",
        "\n"
      ]
    },
    {
      "cell_type": "code",
      "metadata": {
        "id": "7SY1ZHawyZvz",
        "colab_type": "code",
        "colab": {}
      },
      "source": [
        "# Your Work Here"
      ],
      "execution_count": null,
      "outputs": []
    },
    {
      "cell_type": "code",
      "metadata": {
        "id": "4MnLtPpP_TxR",
        "colab_type": "code",
        "colab": {
          "base_uri": "https://localhost:8080/",
          "height": 204
        },
        "outputId": "9dba2b28-bec3-4003-f125-5369282cc559"
      },
      "source": [
        "import pandas as pd\n",
        "\n",
        "df = pd.DataFrame({'a': [1,3,2,4,3,5], 'b': [5,3,6,4,8,7]})\n",
        "\n",
        "df.head()"
      ],
      "execution_count": 1,
      "outputs": [
        {
          "output_type": "execute_result",
          "data": {
            "text/html": [
              "<div>\n",
              "<style scoped>\n",
              "    .dataframe tbody tr th:only-of-type {\n",
              "        vertical-align: middle;\n",
              "    }\n",
              "\n",
              "    .dataframe tbody tr th {\n",
              "        vertical-align: top;\n",
              "    }\n",
              "\n",
              "    .dataframe thead th {\n",
              "        text-align: right;\n",
              "    }\n",
              "</style>\n",
              "<table border=\"1\" class=\"dataframe\">\n",
              "  <thead>\n",
              "    <tr style=\"text-align: right;\">\n",
              "      <th></th>\n",
              "      <th>a</th>\n",
              "      <th>b</th>\n",
              "    </tr>\n",
              "  </thead>\n",
              "  <tbody>\n",
              "    <tr>\n",
              "      <th>0</th>\n",
              "      <td>1</td>\n",
              "      <td>5</td>\n",
              "    </tr>\n",
              "    <tr>\n",
              "      <th>1</th>\n",
              "      <td>3</td>\n",
              "      <td>3</td>\n",
              "    </tr>\n",
              "    <tr>\n",
              "      <th>2</th>\n",
              "      <td>2</td>\n",
              "      <td>6</td>\n",
              "    </tr>\n",
              "    <tr>\n",
              "      <th>3</th>\n",
              "      <td>4</td>\n",
              "      <td>4</td>\n",
              "    </tr>\n",
              "    <tr>\n",
              "      <th>4</th>\n",
              "      <td>3</td>\n",
              "      <td>8</td>\n",
              "    </tr>\n",
              "  </tbody>\n",
              "</table>\n",
              "</div>"
            ],
            "text/plain": [
              "   a  b\n",
              "0  1  5\n",
              "1  3  3\n",
              "2  2  6\n",
              "3  4  4\n",
              "4  3  8"
            ]
          },
          "metadata": {
            "tags": []
          },
          "execution_count": 1
        }
      ]
    },
    {
      "cell_type": "code",
      "metadata": {
        "id": "_PVrAAJ1_l-_",
        "colab_type": "code",
        "colab": {
          "base_uri": "https://localhost:8080/",
          "height": 265
        },
        "outputId": "c529e089-9f12-4187-b4d5-e83386abb7ea"
      },
      "source": [
        "import matplotlib.pyplot as plt\n",
        "\n",
        "df['a'].plot()\n",
        "df['b'].plot()\n",
        "plt.show()"
      ],
      "execution_count": 3,
      "outputs": [
        {
          "output_type": "display_data",
          "data": {
            "image/png": "[encoded data removed]",
            "text/plain": [
              "<Figure size 432x288 with 1 Axes>"
            ]
          },
          "metadata": {
            "tags": [],
            "needs_background": "light"
          }
        }
      ]
    },
    {
      "cell_type": "code",
      "metadata": {
        "id": "jbb04qH9_ufj",
        "colab_type": "code",
        "colab": {
          "base_uri": "https://localhost:8080/",
          "height": 513
        },
        "outputId": "57b1a91d-9992-43d1-cae3-e396a2251b38"
      },
      "source": [
        "df['a'].plot()\n",
        "plt.show()\n",
        "df['b'].plot()\n",
        "plt.show()"
      ],
      "execution_count": 4,
      "outputs": [
        {
          "output_type": "display_data",
          "data": {
            "image/png": "[encoded data removed]",
            "text/plain": [
              "<Figure size 432x288 with 1 Axes>"
            ]
          },
          "metadata": {
            "tags": [],
            "needs_background": "light"
          }
        },
        {
          "output_type": "display_data",
          "data": {
            "image/png": "[encoded data removed]",
            "text/plain": [
              "<Figure size 432x288 with 1 Axes>"
            ]
          },
          "metadata": {
            "tags": [],
            "needs_background": "light"
          }
        }
      ]
    },
    {
      "cell_type": "code",
      "metadata": {
        "id": "J1aqkzFf_pN3",
        "colab_type": "code",
        "colab": {
          "base_uri": "https://localhost:8080/",
          "height": 295
        },
        "outputId": "fa67b94e-53c9-47ed-b809-3b9f62deba74"
      },
      "source": [
        "plt.plot(df['a'])\n",
        "plt.plot(df['b'])\n",
        "plt.title('this is my title')\n",
        "plt.xlabel('x axis label')\n",
        "plt.show()"
      ],
      "execution_count": 6,
      "outputs": [
        {
          "output_type": "display_data",
          "data": {
            "image/png": "[encoded data removed]",
            "text/plain": [
              "<Figure size 432x288 with 1 Axes>"
            ]
          },
          "metadata": {
            "tags": [],
            "needs_background": "light"
          }
        }
      ]
    },
    {
      "cell_type": "code",
      "metadata": {
        "id": "FTm47lBB_3l2",
        "colab_type": "code",
        "colab": {
          "base_uri": "https://localhost:8080/",
          "height": 295
        },
        "outputId": "8ebddd8e-d8e1-4869-8d14-bf39385ad306"
      },
      "source": [
        "fig, ax = plt.subplots()\n",
        "\n",
        "# do to the figure (fig)\n",
        "\n",
        "fig.set_facecolor('yellow')\n",
        "\n",
        "# do to the axes (ax)\n",
        "\n",
        "ax.set_facecolor('#d658cc')\n",
        "\n",
        "ax.plot(df['a'])\n",
        "ax.plot(df['b'])\n",
        "\n",
        "ax.set_title('this is the title')\n",
        "ax.set_xlabel('x label')\n",
        "\n",
        "plt.show()"
      ],
      "execution_count": 7,
      "outputs": [
        {
          "output_type": "display_data",
          "data": {
            "image/png": "[encoded data removed]",
            "text/plain": [
              "<Figure size 432x288 with 1 Axes>"
            ]
          },
          "metadata": {
            "tags": []
          }
        }
      ]
    },
    {
      "cell_type": "code",
      "metadata": {
        "id": "hjaxtbnracrm",
        "colab_type": "code",
        "colab": {
          "base_uri": "https://localhost:8080/",
          "height": 355
        },
        "outputId": "e633f6f7-af9f-49b5-ad56-74df0bfed312"
      },
      "source": [
        "from IPython.display import display, Image\n",
        "\n",
        "url = 'https://fivethirtyeight.com/wp-content/uploads/2017/09/mehtahickey-inconvenient-0830-1.png'\n",
        "example = Image(url=url, width=400)\n",
        "\n",
        "display(example)"
      ],
      "execution_count": 9,
      "outputs": [
        {
          "output_type": "display_data",
          "data": {
            "text/html": [
              "<img src=\"https://fivethirtyeight.com/wp-content/uploads/2017/09/mehtahickey-inconvenient-0830-1.png\" width=\"400\"/>"
            ],
            "text/plain": [
              "<IPython.core.display.Image object>"
            ]
          },
          "metadata": {
            "tags": []
          }
        }
      ]
    },
    {
      "cell_type": "code",
      "metadata": {
        "id": "JM91L86yadUY",
        "colab_type": "code",
        "colab": {
          "base_uri": "https://localhost:8080/",
          "height": 285
        },
        "outputId": "ede11581-9052-4fd8-f1d0-020d655b348f"
      },
      "source": [
        "%matplotlib inline\n",
        "import matplotlib.pyplot as plt\n",
        "import numpy as np\n",
        "import pandas as pd\n",
        "\n",
        "\n",
        "plt.style.use('fivethirtyeight')\n",
        "\n",
        "fake = pd.Series([38, 3, 2, 1, 2, 4, 6, 5, 5, 33], \n",
        "                 index=range(1,11))\n",
        "\n",
        "fake.plot.bar();"
      ],
      "execution_count": 16,
      "outputs": [
        {
          "output_type": "display_data",
          "data": {
            "image/png": "[encoded data removed]",
            "text/plain": [
              "<Figure size 432x288 with 1 Axes>"
            ]
          },
          "metadata": {
            "tags": []
          }
        }
      ]
    },
    {
      "cell_type": "code",
      "metadata": {
        "id": "hoFZQlMkaix8",
        "colab_type": "code",
        "colab": {
          "base_uri": "https://localhost:8080/",
          "height": 289
        },
        "outputId": "2129af38-b029-4ce1-a808-93c6097ad478"
      },
      "source": [
        "fake2 = pd.Series(\n",
        "    [1, 1, 1, 1, 1, 1, 1, 1, 1, 1, 1, 1, 1, 1, 1, 1, 1, 1, 1, 1, 1, 1, 1, 1,\n",
        "     2, 2, 2, \n",
        "     3, 3, 3,\n",
        "     4, 4,\n",
        "     5, 5, 5,\n",
        "     6, 6, 6, 6,\n",
        "     7, 7, 7, 7, 7,\n",
        "     8, 8, 8, 8,\n",
        "     9, 9, 9, 9, \n",
        "     10, 10, 10, 10, 10, 10, 10, 10, 10, 10, 10, 10, 10, 10, 10, 10, 10, 10])\n",
        "\n",
        "fake2.value_counts().sort_index().plot.bar(color='C1', width=0.9);"
      ],
      "execution_count": 11,
      "outputs": [
        {
          "output_type": "display_data",
          "data": {
            "image/png": "[encoded data removed]",
            "text/plain": [
              "<Figure size 432x288 with 1 Axes>"
            ]
          },
          "metadata": {
            "tags": []
          }
        }
      ]
    },
    {
      "cell_type": "code",
      "metadata": {
        "id": "bR0HcOCJamBx",
        "colab_type": "code",
        "colab": {
          "base_uri": "https://localhost:8080/",
          "height": 382
        },
        "outputId": "f6c7041b-8b20-49d2-ff74-5bb35a94bc06"
      },
      "source": [
        "fig, ax = plt.subplots()\n",
        "\n",
        "# figure styles\n",
        "fig.set_facecolor('white')\n",
        "\n",
        "# axes styles\n",
        "ax.bar(x=[1,2,3,4,5,6,7,8,9,10], height=fake, width=0.9, color='#ED703A')\n",
        "ax.set_facecolor('white')\n",
        "\n",
        "ax.set_ylim(0, 40)\n",
        "\n",
        "# title and subtitle\n",
        "ax.set_title(x=0.4, y=1.15, label=\"'An Inconvenient Sequel:  Truth to Power' is divisive\", fontsize=15, fontweight='bold')\n",
        "  #title above position is relative to the axis labels,\n",
        "  #whereas below is relative to x and y axis in general\n",
        "ax.text(x=-2, y=44, s='IMDb ratings for the film as of Aug. 29')\n",
        "\n",
        "# tick marks\n",
        "ax.set_xticks([1,2,3,4,5,6,7,8,9,10])\n",
        "ax.set_yticks([0,10,20,30,40])\n",
        "\n",
        "#changing color of tick marks\n",
        "ax.tick_params(axis='x', which='major', length=10, color='lightgrey')\n",
        "#adding tick marks to top\n",
        "ax.tick_params(top=True, labeltop=False, length=4, color='lightgrey')\n",
        "\n",
        "# tick labels (numbers)\n",
        "ax.set_yticklabels([0,10,20,30,\"40%\"], fontsize=11, color='grey')\n",
        "ax.set_xticklabels([1,2,3,4,5,6,7,8,9,10], fontsize=11, color='grey')\n",
        "\n",
        "# axis labels\n",
        "ax.set_xlabel('Rating', fontsize=11, fontweight='bold')\n",
        "ax.set_ylabel('Percent of total votes', fontsize=11, fontweight='bold')\n",
        "\n",
        "# control the spines\n",
        "ax.spines['left'].set_visible(False)\n",
        "ax.spines['right'].set_visible(False)\n",
        "ax.spines['top'].set_visible(False)\n",
        "ax.spines['bottom'].set_linewidth(1.0)\n",
        "\n",
        "ax.spines['bottom'].set_color('lightgrey')\n",
        "\n",
        "\n",
        "# adding footnotes\n",
        "ax.text(11.0, -11.0, \"SOURCE: IMDB\",\n",
        "        fontsize=7, ha=\"right\", color='.5')\n",
        "\n",
        "ax.text(0.0, -11.0, \"FiveThirtyEight\",\n",
        "        fontsize=7, ha=\"left\", color='.5')\n",
        "\n",
        "# adding horizontal line across bottom\n",
        "ax.text(0.0, -9, \"_____________________________________________________________________________________________________________\", \n",
        "        fontsize=7, ha=\"left\", color='.5')\n",
        "\n",
        "plt.show()"
      ],
      "execution_count": 19,
      "outputs": [
        {
          "output_type": "display_data",
          "data": {
            "image/png": "[encoded data removed]",
            "text/plain": [
              "<Figure size 432x288 with 1 Axes>"
            ]
          },
          "metadata": {
            "tags": []
          }
        }
      ]
    },
    {
      "cell_type": "code",
      "metadata": {
        "id": "cci2U7vcaqvv",
        "colab_type": "code",
        "colab": {
          "base_uri": "https://localhost:8080/",
          "height": 355
        },
        "outputId": "a7705b97-5fee-4afa-d701-18b75efadc75"
      },
      "source": [
        "display(example)"
      ],
      "execution_count": 13,
      "outputs": [
        {
          "output_type": "display_data",
          "data": {
            "text/html": [
              "<img src=\"https://fivethirtyeight.com/wp-content/uploads/2017/09/mehtahickey-inconvenient-0830-1.png\" width=\"400\"/>"
            ],
            "text/plain": [
              "<IPython.core.display.Image object>"
            ]
          },
          "metadata": {
            "tags": []
          }
        }
      ]
    },
    {
      "cell_type": "code",
      "metadata": {
        "id": "irrZXWe4s6iu",
        "colab_type": "code",
        "colab": {
          "base_uri": "https://localhost:8080/",
          "height": 275
        },
        "outputId": "a06f2d3a-6f9f-4f42-cf13-1f91d78854e7"
      },
      "source": [
        "# new graph to replicate:\n",
        "\n",
        "from IPython.display import display, Image\n",
        "\n",
        "url = 'https://fivethirtyeight.com/wp-content/uploads/2020/06/rogers-rakich.VOTER-REGISTRATION-2.0622.png'\n",
        "example2 = Image(url=url, width=400)\n",
        "\n",
        "display(example2)"
      ],
      "execution_count": 20,
      "outputs": [
        {
          "output_type": "display_data",
          "data": {
            "text/html": [
              "<img src=\"https://fivethirtyeight.com/wp-content/uploads/2020/06/rogers-rakich.VOTER-REGISTRATION-2.0622.png\" width=\"400\"/>"
            ],
            "text/plain": [
              "<IPython.core.display.Image object>"
            ]
          },
          "metadata": {
            "tags": []
          }
        }
      ]
    },
    {
      "cell_type": "code",
      "metadata": {
        "id": "KIMaCrMtwOz0",
        "colab_type": "code",
        "colab": {
          "base_uri": "https://localhost:8080/",
          "height": 204
        },
        "outputId": "84121e11-5b9b-4248-e2a9-403bf1fb274e"
      },
      "source": [
        "df_DC = pd.DataFrame({'IN PERSON':[2.9, 2.6, 1.5, 0, 0], 'REMOTE':[0.2, 0.5, 0.6, 1.2, 1.9]})\n",
        "\n",
        "df_DC.head()"
      ],
      "execution_count": 21,
      "outputs": [
        {
          "output_type": "execute_result",
          "data": {
            "text/html": [
              "<div>\n",
              "<style scoped>\n",
              "    .dataframe tbody tr th:only-of-type {\n",
              "        vertical-align: middle;\n",
              "    }\n",
              "\n",
              "    .dataframe tbody tr th {\n",
              "        vertical-align: top;\n",
              "    }\n",
              "\n",
              "    .dataframe thead th {\n",
              "        text-align: right;\n",
              "    }\n",
              "</style>\n",
              "<table border=\"1\" class=\"dataframe\">\n",
              "  <thead>\n",
              "    <tr style=\"text-align: right;\">\n",
              "      <th></th>\n",
              "      <th>IN PERSON</th>\n",
              "      <th>REMOTE</th>\n",
              "    </tr>\n",
              "  </thead>\n",
              "  <tbody>\n",
              "    <tr>\n",
              "      <th>0</th>\n",
              "      <td>2.9</td>\n",
              "      <td>0.2</td>\n",
              "    </tr>\n",
              "    <tr>\n",
              "      <th>1</th>\n",
              "      <td>2.6</td>\n",
              "      <td>0.5</td>\n",
              "    </tr>\n",
              "    <tr>\n",
              "      <th>2</th>\n",
              "      <td>1.5</td>\n",
              "      <td>0.6</td>\n",
              "    </tr>\n",
              "    <tr>\n",
              "      <th>3</th>\n",
              "      <td>0.0</td>\n",
              "      <td>1.2</td>\n",
              "    </tr>\n",
              "    <tr>\n",
              "      <th>4</th>\n",
              "      <td>0.0</td>\n",
              "      <td>1.9</td>\n",
              "    </tr>\n",
              "  </tbody>\n",
              "</table>\n",
              "</div>"
            ],
            "text/plain": [
              "   IN PERSON  REMOTE\n",
              "0        2.9     0.2\n",
              "1        2.6     0.5\n",
              "2        1.5     0.6\n",
              "3        0.0     1.2\n",
              "4        0.0     1.9"
            ]
          },
          "metadata": {
            "tags": []
          },
          "execution_count": 21
        }
      ]
    },
    {
      "cell_type": "code",
      "metadata": {
        "id": "FXyweBNjxdy0",
        "colab_type": "code",
        "colab": {
          "base_uri": "https://localhost:8080/",
          "height": 319
        },
        "outputId": "087bd115-be31-4625-9297-4f62cf43b6fa"
      },
      "source": [
        "fig, ax = plt.subplots()\n",
        "\n",
        "fig.set_facecolor('white')\n",
        "ax.set_facecolor('white')\n",
        "\n",
        "ax.plot(df_DC['IN PERSON'], color='coral', marker='o', markersize='10')\n",
        "ax.plot(df_DC['REMOTE'], color='turquoise', marker='o', markersize='10')\n",
        "\n",
        "\n",
        "ax.set_title(x=0.5, y=1.10, label='District of Columbia', fontsize=16, fontweight='bold')\n",
        "ax.grid(b=False, axis='x')\n",
        "\n",
        "ax.set_xticks([0,1,2,3,4])\n",
        "ax.set_yticks([0,1,2,3])\n",
        "ax.set_xticklabels([\"Jan.\",\"Feb.\",\"March\",\"April\",\"May\"], fontsize=11, color='grey')\n",
        "ax.set_yticklabels([0,1,2,\"3K\"], fontsize=11, color='grey')\n",
        "\n",
        "\n",
        "ax.spines['left'].set_visible(False)\n",
        "ax.spines['right'].set_visible(False)\n",
        "ax.spines['top'].set_visible(False)\n",
        "ax.spines['bottom'].set_visible(False)\n",
        "\n",
        "plt.show()"
      ],
      "execution_count": 27,
      "outputs": [
        {
          "output_type": "display_data",
          "data": {
            "image/png": "[encoded data removed]",
            "text/plain": [
              "<Figure size 432x288 with 1 Axes>"
            ]
          },
          "metadata": {
            "tags": []
          }
        }
      ]
    },
    {
      "cell_type": "code",
      "metadata": {
        "id": "VPGEY_bgL1if",
        "colab_type": "code",
        "colab": {}
      },
      "source": [
        "# Now that I have one plot, let's use the template to create the others..."
      ],
      "execution_count": null,
      "outputs": []
    },
    {
      "cell_type": "code",
      "metadata": {
        "id": "a1YNaSZBC6bo",
        "colab_type": "code",
        "colab": {
          "base_uri": "https://localhost:8080/",
          "height": 204
        },
        "outputId": "20d03016-8f5b-467b-8c87-c59277925390"
      },
      "source": [
        "df_ML = pd.DataFrame({'IN PERSON':[18, 17, 18, 6, 7], 'REMOTE':[2.5, 4, 5, 3, 16]})\n",
        "\n",
        "df_ML.head()"
      ],
      "execution_count": 23,
      "outputs": [
        {
          "output_type": "execute_result",
          "data": {
            "text/html": [
              "<div>\n",
              "<style scoped>\n",
              "    .dataframe tbody tr th:only-of-type {\n",
              "        vertical-align: middle;\n",
              "    }\n",
              "\n",
              "    .dataframe tbody tr th {\n",
              "        vertical-align: top;\n",
              "    }\n",
              "\n",
              "    .dataframe thead th {\n",
              "        text-align: right;\n",
              "    }\n",
              "</style>\n",
              "<table border=\"1\" class=\"dataframe\">\n",
              "  <thead>\n",
              "    <tr style=\"text-align: right;\">\n",
              "      <th></th>\n",
              "      <th>IN PERSON</th>\n",
              "      <th>REMOTE</th>\n",
              "    </tr>\n",
              "  </thead>\n",
              "  <tbody>\n",
              "    <tr>\n",
              "      <th>0</th>\n",
              "      <td>18</td>\n",
              "      <td>2.5</td>\n",
              "    </tr>\n",
              "    <tr>\n",
              "      <th>1</th>\n",
              "      <td>17</td>\n",
              "      <td>4.0</td>\n",
              "    </tr>\n",
              "    <tr>\n",
              "      <th>2</th>\n",
              "      <td>18</td>\n",
              "      <td>5.0</td>\n",
              "    </tr>\n",
              "    <tr>\n",
              "      <th>3</th>\n",
              "      <td>6</td>\n",
              "      <td>3.0</td>\n",
              "    </tr>\n",
              "    <tr>\n",
              "      <th>4</th>\n",
              "      <td>7</td>\n",
              "      <td>16.0</td>\n",
              "    </tr>\n",
              "  </tbody>\n",
              "</table>\n",
              "</div>"
            ],
            "text/plain": [
              "   IN PERSON  REMOTE\n",
              "0         18     2.5\n",
              "1         17     4.0\n",
              "2         18     5.0\n",
              "3          6     3.0\n",
              "4          7    16.0"
            ]
          },
          "metadata": {
            "tags": []
          },
          "execution_count": 23
        }
      ]
    },
    {
      "cell_type": "code",
      "metadata": {
        "id": "c6uZw5-QGDaN",
        "colab_type": "code",
        "colab": {
          "base_uri": "https://localhost:8080/",
          "height": 173
        },
        "outputId": "8a7386d7-209f-49cf-c7a7-b63d42a53fb8"
      },
      "source": [
        "df_FL = pd.DataFrame({'IN PERSON':[65, 69, 40, 6], 'REMOTE':[20, 50, 20, 18]})\n",
        "\n",
        "df_FL.head()"
      ],
      "execution_count": 24,
      "outputs": [
        {
          "output_type": "execute_result",
          "data": {
            "text/html": [
              "<div>\n",
              "<style scoped>\n",
              "    .dataframe tbody tr th:only-of-type {\n",
              "        vertical-align: middle;\n",
              "    }\n",
              "\n",
              "    .dataframe tbody tr th {\n",
              "        vertical-align: top;\n",
              "    }\n",
              "\n",
              "    .dataframe thead th {\n",
              "        text-align: right;\n",
              "    }\n",
              "</style>\n",
              "<table border=\"1\" class=\"dataframe\">\n",
              "  <thead>\n",
              "    <tr style=\"text-align: right;\">\n",
              "      <th></th>\n",
              "      <th>IN PERSON</th>\n",
              "      <th>REMOTE</th>\n",
              "    </tr>\n",
              "  </thead>\n",
              "  <tbody>\n",
              "    <tr>\n",
              "      <th>0</th>\n",
              "      <td>65</td>\n",
              "      <td>20</td>\n",
              "    </tr>\n",
              "    <tr>\n",
              "      <th>1</th>\n",
              "      <td>69</td>\n",
              "      <td>50</td>\n",
              "    </tr>\n",
              "    <tr>\n",
              "      <th>2</th>\n",
              "      <td>40</td>\n",
              "      <td>20</td>\n",
              "    </tr>\n",
              "    <tr>\n",
              "      <th>3</th>\n",
              "      <td>6</td>\n",
              "      <td>18</td>\n",
              "    </tr>\n",
              "  </tbody>\n",
              "</table>\n",
              "</div>"
            ],
            "text/plain": [
              "   IN PERSON  REMOTE\n",
              "0         65      20\n",
              "1         69      50\n",
              "2         40      20\n",
              "3          6      18"
            ]
          },
          "metadata": {
            "tags": []
          },
          "execution_count": 24
        }
      ]
    },
    {
      "cell_type": "code",
      "metadata": {
        "id": "jQ0f6fTmGdvc",
        "colab_type": "code",
        "colab": {
          "base_uri": "https://localhost:8080/",
          "height": 204
        },
        "outputId": "2320d50c-3473-49ac-df10-9cab545e01e0"
      },
      "source": [
        "df_TX = pd.DataFrame({'IN PERSON':[95, 75, 75, 5, 5], 'REMOTE':[37, 50, 47, 26, 28]})\n",
        "\n",
        "df_TX.head()"
      ],
      "execution_count": 25,
      "outputs": [
        {
          "output_type": "execute_result",
          "data": {
            "text/html": [
              "<div>\n",
              "<style scoped>\n",
              "    .dataframe tbody tr th:only-of-type {\n",
              "        vertical-align: middle;\n",
              "    }\n",
              "\n",
              "    .dataframe tbody tr th {\n",
              "        vertical-align: top;\n",
              "    }\n",
              "\n",
              "    .dataframe thead th {\n",
              "        text-align: right;\n",
              "    }\n",
              "</style>\n",
              "<table border=\"1\" class=\"dataframe\">\n",
              "  <thead>\n",
              "    <tr style=\"text-align: right;\">\n",
              "      <th></th>\n",
              "      <th>IN PERSON</th>\n",
              "      <th>REMOTE</th>\n",
              "    </tr>\n",
              "  </thead>\n",
              "  <tbody>\n",
              "    <tr>\n",
              "      <th>0</th>\n",
              "      <td>95</td>\n",
              "      <td>37</td>\n",
              "    </tr>\n",
              "    <tr>\n",
              "      <th>1</th>\n",
              "      <td>75</td>\n",
              "      <td>50</td>\n",
              "    </tr>\n",
              "    <tr>\n",
              "      <th>2</th>\n",
              "      <td>75</td>\n",
              "      <td>47</td>\n",
              "    </tr>\n",
              "    <tr>\n",
              "      <th>3</th>\n",
              "      <td>5</td>\n",
              "      <td>26</td>\n",
              "    </tr>\n",
              "    <tr>\n",
              "      <th>4</th>\n",
              "      <td>5</td>\n",
              "      <td>28</td>\n",
              "    </tr>\n",
              "  </tbody>\n",
              "</table>\n",
              "</div>"
            ],
            "text/plain": [
              "   IN PERSON  REMOTE\n",
              "0         95      37\n",
              "1         75      50\n",
              "2         75      47\n",
              "3          5      26\n",
              "4          5      28"
            ]
          },
          "metadata": {
            "tags": []
          },
          "execution_count": 25
        }
      ]
    },
    {
      "cell_type": "code",
      "metadata": {
        "id": "Lf1Sto4MIciQ",
        "colab_type": "code",
        "colab": {
          "base_uri": "https://localhost:8080/",
          "height": 295
        },
        "outputId": "b4820b0e-8dc0-4cac-8804-a37cb0fe10bd"
      },
      "source": [
        "fig, axes = plt.subplots(2,2)\n",
        "\n",
        "fig.tight_layout()\n",
        "\n",
        "#First subplot: DC\n",
        "fig.set_facecolor('white')\n",
        "axes[0,0].set_facecolor('white')\n",
        "\n",
        "axes[0,0].plot(df_DC['IN PERSON'], color='coral', marker='o', markersize='10')\n",
        "axes[0,0].plot(df_DC['REMOTE'], color='turquoise', marker='o', markersize='10')\n",
        "\n",
        "\n",
        "axes[0,0].set_title(x=0.5, y=1.10, label='District of Columbia', fontsize=12, fontweight='bold')\n",
        "axes[0,0].grid(b=False, axis='x')\n",
        "\n",
        "axes[0,0].set_xticks([0,1,2,3,4])\n",
        "axes[0,0].set_yticks([0,1,2,3])\n",
        "axes[0,0].set_xticklabels([\"\",\"\",\"\",\"\",\"\"])\n",
        "axes[0,0].set_yticklabels([0,1,2,\"3K\"], fontsize=11, color='grey')\n",
        "\n",
        "\n",
        "axes[0,0].spines['left'].set_visible(False)\n",
        "axes[0,0].spines['right'].set_visible(False)\n",
        "axes[0,0].spines['top'].set_visible(False)\n",
        "axes[0,0].spines['bottom'].set_visible(False)\n",
        "\n",
        "#Second subplot: Florida\n",
        "fig.set_facecolor('white')\n",
        "axes[0,1].set_facecolor('white')\n",
        "\n",
        "axes[0,1].plot(df_FL['IN PERSON'], color='coral', marker='o', markersize='10')\n",
        "axes[0,1].plot(df_FL['REMOTE'], color='turquoise', marker='o', markersize='10')\n",
        "\n",
        "\n",
        "axes[0,1].set_title(x=0.5, y=1.10, label='Florida', fontsize=12, fontweight='bold')\n",
        "axes[0,1].grid(b=False, axis='x')\n",
        "\n",
        "axes[0,1].set_xticks([0,1,2,3,4])\n",
        "axes[0,1].set_yticks([0,20,40,60])\n",
        "axes[0,1].set_xticklabels([\"\",\"\",\"\",\"\",\"\"])\n",
        "axes[0,1].set_yticklabels([0,20,40,\"60K\"], fontsize=11, color='grey')\n",
        "\n",
        "\n",
        "axes[0,1].spines['left'].set_visible(False)\n",
        "axes[0,1].spines['right'].set_visible(False)\n",
        "axes[0,1].spines['top'].set_visible(False)\n",
        "axes[0,1].spines['bottom'].set_visible(False)\n",
        "\n",
        "#Third subplot: Maryland\n",
        "fig.set_facecolor('white')\n",
        "axes[1,0].set_facecolor('white')\n",
        "\n",
        "axes[1,0].plot(df_ML['IN PERSON'], color='coral', marker='o', markersize='10')\n",
        "axes[1,0].plot(df_ML['REMOTE'], color='turquoise', marker='o', markersize='10')\n",
        "\n",
        "\n",
        "axes[1,0].set_title(x=0.5, y=1.10, label='Maryland', fontsize=12, fontweight='bold')\n",
        "axes[1,0].grid(b=False, axis='x')\n",
        "\n",
        "axes[1,0].set_xticks([0,1,2,3,4])\n",
        "axes[1,0].set_yticks([0,5,10,15])\n",
        "axes[1,0].set_xticklabels([\"Jan.\",\"Feb.\",\"March\",\"April\",\"May\"], fontsize=11, color='grey')\n",
        "axes[1,0].set_yticklabels([0,5,10,\"15K\"], fontsize=11, color='grey')\n",
        "\n",
        "\n",
        "axes[1,0].spines['left'].set_visible(False)\n",
        "axes[1,0].spines['right'].set_visible(False)\n",
        "axes[1,0].spines['top'].set_visible(False)\n",
        "axes[1,0].spines['bottom'].set_visible(False)\n",
        "\n",
        "#Fourth subplot: Texas\n",
        "fig.set_facecolor('white')\n",
        "axes[1,1].set_facecolor('white')\n",
        "\n",
        "axes[1,1].plot(df_TX['IN PERSON'], color='coral', marker='o', markersize='10')\n",
        "axes[1,1].plot(df_TX['REMOTE'], color='turquoise', marker='o', markersize='10')\n",
        "\n",
        "\n",
        "axes[1,1].set_title(x=0.5, y=1.10, label='Texas', fontsize=12, fontweight='bold')\n",
        "axes[1,1].grid(b=False, axis='x')\n",
        "\n",
        "axes[1,1].set_xticks([0,1,2,3,4])\n",
        "axes[1,1].set_yticks([0,25,50,75, 100])\n",
        "axes[1,1].set_xticklabels([\"Jan.\",\"Feb.\",\"March\",\"April\",\"May\"], fontsize=11, color='grey')\n",
        "axes[1,1].set_yticklabels([0,25,50,75,\"100K\"], fontsize=11, color='grey')\n",
        "\n",
        "\n",
        "axes[1,1].spines['left'].set_visible(False)\n",
        "axes[1,1].spines['right'].set_visible(False)\n",
        "axes[1,1].spines['top'].set_visible(False)\n",
        "axes[1,1].spines['bottom'].set_visible(False)\n",
        "\n",
        "\n",
        "plt.show()"
      ],
      "execution_count": 39,
      "outputs": [
        {
          "output_type": "display_data",
          "data": {
            "image/png": "[encoded data removed]",
            "text/plain": [
              "<Figure size 432x288 with 4 Axes>"
            ]
          },
          "metadata": {
            "tags": []
          }
        }
      ]
    },
    {
      "cell_type": "markdown",
      "metadata": {
        "id": "0wSrBzmJyWaV",
        "colab_type": "text"
      },
      "source": [
        "# STRETCH OPTIONS\n",
        "\n",
        "### 1) Reproduce one of the following using the matplotlib or seaborn libraries:\n",
        "\n",
        "- [thanksgiving-2015](https://fivethirtyeight.com/features/heres-what-your-part-of-america-eats-on-thanksgiving/) \n",
        "- [candy-power-ranking](https://fivethirtyeight.com/features/the-ultimate-halloween-candy-power-ranking/) \n",
        "- or another example of your choice!\n",
        "\n",
        "### 2) Make more charts!\n",
        "\n",
        "Choose a chart you want to make, from [Visual Vocabulary - Vega Edition](http://ft.com/vocabulary).\n",
        "\n",
        "Find the chart in an example gallery of a Python data visualization library:\n",
        "- [Seaborn](http://seaborn.pydata.org/examples/index.html)\n",
        "- [Altair](https://altair-viz.github.io/gallery/index.html)\n",
        "- [Matplotlib](https://matplotlib.org/gallery.html)\n",
        "- [Pandas](https://pandas.pydata.org/pandas-docs/stable/visualization.html)\n",
        "\n",
        "Reproduce the chart. [Optionally, try the \"Ben Franklin Method.\"](https://docs.google.com/document/d/1ubOw9B3Hfip27hF2ZFnW3a3z9xAgrUDRReOEo-FHCVs/edit) If you want, experiment and make changes.\n",
        "\n",
        "Take notes. Consider sharing your work with your cohort!"
      ]
    },
    {
      "cell_type": "code",
      "metadata": {
        "id": "dRJkKftiy5BJ",
        "colab_type": "code",
        "colab": {}
      },
      "source": [
        "# More Work Here"
      ],
      "execution_count": null,
      "outputs": []
    }
  ]
}